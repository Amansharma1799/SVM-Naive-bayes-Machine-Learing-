{
  "nbformat": 4,
  "nbformat_minor": 0,
  "metadata": {
    "colab": {
      "provenance": []
    },
    "kernelspec": {
      "name": "python3",
      "display_name": "Python 3"
    },
    "language_info": {
      "name": "python"
    }
  },
  "cells": [
    {
      "cell_type": "markdown",
      "source": [
        "Theoretical Question:-"
      ],
      "metadata": {
        "id": "4DLLFNiEXkqz"
      }
    },
    {
      "cell_type": "markdown",
      "source": [
        "1. **What is a Support Vector Machine (SVM)?**\n",
        "\n",
        "   A Support Vector Machine (SVM) is a supervised machine learning algorithm used for classification and regression tasks. It works by finding the optimal hyperplane that best separates data points of different classes in an N-dimensional space.&#x20;\n",
        "\n",
        "---\n",
        "\n",
        "2. **What is the difference between Hard Margin and Soft Margin SVM?**\n",
        "\n",
        "   * **Hard Margin SVM:** Assumes data is linearly separable without errors, aiming for a hyperplane that perfectly divides the classes. It's sensitive to outliers.\n",
        "\n",
        "   * **Soft Margin SVM:** Allows some misclassifications to achieve better generalization, introducing a penalty for misclassified points to handle overlapping classes and outliers.&#x20;\n",
        "\n",
        "---\n",
        "\n",
        "3. **What is the mathematical intuition behind SVM?**\n",
        "\n",
        "   SVM seeks to maximize the margin between classes by solving an optimization problem. It minimizes the norm of the weight vector while ensuring that data points are correctly classified, often formulated using Lagrange multipliers to handle constraints.&#x20;\n",
        "\n",
        "---\n",
        "\n",
        "4. **What is the role of Lagrange Multipliers in SVM?**\n",
        "\n",
        "   Lagrange multipliers are used in SVM to transform the constrained optimization problem into a form that can be solved more easily. They help in deriving the dual problem, which is often more efficient to solve, especially when dealing with kernel functions.&#x20;\n",
        "\n",
        "---\n",
        "\n",
        "5. **What are Support Vectors in SVM?**\n",
        "\n",
        "   Support vectors are the data points that lie closest to the decision boundary (hyperplane). They are critical in defining the position and orientation of the hyperplane; the SVM model is entirely determined by these points.&#x20;\n",
        "\n",
        "---\n",
        "\n",
        "6. **What is a Support Vector Classifier (SVC)?**\n",
        "\n",
        "   A Support Vector Classifier (SVC) is an implementation of SVM for classification tasks. It finds the optimal hyperplane that separates classes in the feature space and can handle both linear and non-linear classification using kernel functions.&#x20;\n",
        "\n",
        "---\n",
        "\n",
        "7. **What is a Support Vector Regressor (SVR)?**\n",
        "\n",
        "   A Support Vector Regressor (SVR) is an adaptation of SVM for regression tasks. It attempts to fit the best line within a predefined margin (epsilon) that captures as many data points as possible, allowing for some deviations.&#x20;\n",
        "\n",
        "---\n",
        "\n",
        "8. **What is the Kernel Trick in SVM?**\n",
        "\n",
        "   The kernel trick allows SVMs to perform non-linear classification by implicitly mapping input features into higher-dimensional spaces. This is achieved using kernel functions, enabling the algorithm to find a linear separator in the transformed space without explicitly computing the transformation.&#x20;\n",
        "\n",
        "---\n",
        "\n",
        "9. **Compare Linear Kernel, Polynomial Kernel, and RBF Kernel.**\n",
        "\n",
        "   * **Linear Kernel:** Suitable for linearly separable data; computationally efficient.([Medium][1])\n",
        "\n",
        "   * **Polynomial Kernel:** Captures interactions between features; useful for data where relationships are polynomial.\n",
        "\n",
        "   * **RBF (Radial Basis Function) Kernel:** Handles non-linear relationships well; maps data into infinite-dimensional space. ([Medium][1])\n",
        "\n",
        "---\n",
        "\n",
        "10. **What is the effect of the C parameter in SVM?**\n",
        "\n",
        "    The C parameter controls the trade-off between achieving a low training error and a low testing error (generalization). A small C value allows for a wider margin with more misclassifications, promoting generalization. A large C value aims for fewer misclassifications but may lead to overfitting.&#x20;\n",
        "\n",
        "---\n",
        "\n",
        "11. **What is the role of the Gamma parameter in RBF Kernel SVM?**\n",
        "\n",
        "    Gamma defines how far the influence of a single training example reaches. A low gamma value means 'far' and a high gamma value means 'close.' A high gamma leads to a more complex model that may overfit, while a low gamma results in a simpler model that may underfit.&#x20;\n",
        "\n",
        "---\n",
        "\n",
        "### **Naïve Bayes Classifier**\n",
        "\n",
        "12. **What is the Naïve Bayes classifier, and why is it called \"Naïve\"?**\n",
        "\n",
        "    Naïve Bayes is a probabilistic classifier based on Bayes' Theorem, assuming strong (naïve) independence between features. It's called \"naïve\" because it assumes that all features contribute independently to the outcome, which is rarely the case in real-world data.&#x20;\n",
        "\n",
        "---\n",
        "\n",
        "13. **What is Bayes' Theorem?**\n",
        "\n",
        "    Bayes' Theorem describes the probability of an event, based on prior knowledge of conditions that might be related to the event. Mathematically, it's expressed as:\n",
        "\n",
        "    P(A|B) = \\[P(B|A) \\* P(A)] / P(B)&#x20;\n",
        "\n",
        "---\n",
        "\n",
        "14. **Explain the differences between Gaussian Naïve Bayes, Multinomial Naïve Bayes, and Bernoulli Naïve Bayes.**\n",
        "\n",
        "    * **Gaussian Naïve Bayes:** Assumes continuous features follow a normal distribution.\n",
        "\n",
        "    * **Multinomial Naïve Bayes:** Used for discrete counts, like word frequencies in text classification.\n",
        "\n",
        "    * **Bernoulli Naïve Bayes:** Handles binary/boolean features, considering feature presence or absence.&#x20;\n",
        "\n",
        "---\n",
        "\n",
        "15. **When should you use Gaussian Naïve Bayes over other variants?**\n",
        "\n",
        "    Gaussian Naïve Bayes is preferred when features are continuous and approximately normally distributed, such as in medical data or sensor readings.&#x20;\n",
        "\n",
        "---\n",
        "\n",
        "16. **What are the key assumptions made by Naïve Bayes?**\n",
        "\n",
        "    The primary assumption is that all features are independent given the class label. This means the presence or absence of a feature does not affect the presence or absence of any other feature, which simplifies computation.&#x20;\n",
        "\n",
        "---\n",
        "\n",
        "17. **What are the advantages and disadvantages of Naïve Bayes?**\n",
        "\n",
        "    * **Advantages:** Simple, fast, works well with high-dimensional data, and requires a small amount of training data.\n",
        "\n",
        "    * **Disadvantages:** The strong independence assumption rarely holds true, which can affect accuracy.&#x20;\n",
        "\n",
        "---\n",
        "\n",
        "18. **Why is Naïve Bayes a good choice for text classification?**\n",
        "\n",
        "    Naïve Bayes performs well in text classification tasks because the features (words) are often conditionally independent given the class, and it efficiently handles high-dimensional data like text.&#x20;\n",
        "\n",
        "---\n",
        "\n",
        "19. **Compare SVM and Naïve Bayes for classification tasks.**\n",
        "\n",
        "    * **SVM:** Effective in high-dimensional spaces, robust to overfitting, but computationally intensive.\n",
        "\n",
        "    * **Naïve Bayes:** Faster, works well with large datasets and text data, but may be less accurate if the independence assumption is violated.\n",
        "\n",
        "---\n",
        "\n",
        "20. **How does Laplace Smoothing help in Naïve Bayes?**\n",
        "\n",
        "    Laplace Smoothing addresses the issue of zero probability in Naïve Bayes by adding a small constant (usually 1) to all counts, ensuring that no probability is ever exactly zero, which allows the model to handle unseen features during prediction.\n",
        "\n",
        "---"
      ],
      "metadata": {
        "id": "Vm70WsDTYAMC"
      }
    },
    {
      "cell_type": "markdown",
      "source": [],
      "metadata": {
        "id": "cO4Je8d0YUAw"
      }
    },
    {
      "cell_type": "code",
      "source": [
        "# Question: Train an SVM Classifier on the Iris dataset and evaluate accuracy.\n",
        "\n",
        "from sklearn.datasets import load_iris\n",
        "from sklearn.model_selection import train_test_split\n",
        "from sklearn.svm import SVC\n",
        "from sklearn.metrics import accuracy_score\n",
        "\n",
        "# Load dataset\n",
        "iris = load_iris()\n",
        "X, y = iris.data, iris.target\n",
        "\n",
        "# Split data\n",
        "X_train, X_test, y_train, y_test = train_test_split(X, y, test_size=0.2, random_state=42)\n",
        "\n",
        "# Train SVM classifier\n",
        "svm = SVC(kernel='linear', random_state=42)\n",
        "svm.fit(X_train, y_train)\n",
        "\n",
        "# Predict and evaluate\n",
        "y_pred = svm.predict(X_test)\n",
        "accuracy = accuracy_score(y_test, y_pred)\n",
        "\n",
        "print(f\"Accuracy: {accuracy:.2f}\")\n"
      ],
      "metadata": {
        "colab": {
          "base_uri": "https://localhost:8080/"
        },
        "id": "umTb4B8sYwwh",
        "outputId": "b0e7ddde-66fe-431e-d202-ad6ab5d99a39"
      },
      "execution_count": 1,
      "outputs": [
        {
          "output_type": "stream",
          "name": "stdout",
          "text": [
            "Accuracy: 1.00\n"
          ]
        }
      ]
    },
    {
      "cell_type": "code",
      "source": [
        "# Question: Train SVM classifiers with Linear and RBF kernels on the Wine dataset and compare accuracies.\n",
        "\n",
        "from sklearn.datasets import load_wine\n",
        "from sklearn.model_selection import train_test_split\n",
        "from sklearn.svm import SVC\n",
        "from sklearn.metrics import accuracy_score\n",
        "\n",
        "# Load dataset\n",
        "wine = load_wine()\n",
        "X, y = wine.data, wine.target\n",
        "\n",
        "# Split data\n",
        "X_train, X_test, y_train, y_test = train_test_split(X, y, test_size=0.3, random_state=42)\n",
        "\n",
        "# Train Linear SVM\n",
        "svm_linear = SVC(kernel='linear', random_state=42)\n",
        "svm_linear.fit(X_train, y_train)\n",
        "linear_accuracy = accuracy_score(y_test, svm_linear.predict(X_test))\n",
        "\n",
        "# Train RBF SVM\n",
        "svm_rbf = SVC(kernel='rbf', random_state=42)\n",
        "svm_rbf.fit(X_train, y_train)\n",
        "rbf_accuracy = accuracy_score(y_test, svm_rbf.predict(X_test))\n",
        "\n",
        "print(f\"Linear Kernel Accuracy: {linear_accuracy:.2f}\")\n",
        "print(f\"RBF Kernel Accuracy: {rbf_accuracy:.2f}\")\n"
      ],
      "metadata": {
        "colab": {
          "base_uri": "https://localhost:8080/"
        },
        "id": "yuYP5W_OYzcE",
        "outputId": "a51db06c-833b-48c2-a12a-e8dd242c29be"
      },
      "execution_count": 2,
      "outputs": [
        {
          "output_type": "stream",
          "name": "stdout",
          "text": [
            "Linear Kernel Accuracy: 0.98\n",
            "RBF Kernel Accuracy: 0.76\n"
          ]
        }
      ]
    },
    {
      "cell_type": "code",
      "source": [
        "# Question: Train an SVM Regressor on a housing dataset and evaluate it using Mean Squared Error (MSE).\n",
        "\n",
        "from sklearn.datasets import fetch_california_housing\n",
        "from sklearn.model_selection import train_test_split\n",
        "from sklearn.svm import SVR\n",
        "from sklearn.metrics import mean_squared_error\n",
        "\n",
        "# Load dataset\n",
        "housing = fetch_california_housing()\n",
        "X, y = housing.data, housing.target\n",
        "\n",
        "# Split data\n",
        "X_train, X_test, y_train, y_test = train_test_split(X, y, test_size=0.2, random_state=42)\n",
        "\n",
        "# Train SVR\n",
        "svr = SVR(kernel='rbf')\n",
        "svr.fit(X_train, y_train)\n",
        "\n",
        "# Predict and evaluate\n",
        "y_pred = svr.predict(X_test)\n",
        "mse = mean_squared_error(y_test, y_pred)\n",
        "\n",
        "print(f\"Mean Squared Error: {mse:.2f}\")\n"
      ],
      "metadata": {
        "colab": {
          "base_uri": "https://localhost:8080/"
        },
        "id": "Io5x243QY3fA",
        "outputId": "42c754c3-c427-4392-c995-830758c7a95d"
      },
      "execution_count": 3,
      "outputs": [
        {
          "output_type": "stream",
          "name": "stdout",
          "text": [
            "Mean Squared Error: 1.33\n"
          ]
        }
      ]
    },
    {
      "cell_type": "code",
      "source": [
        "# Question: Train an SVM Classifier with a Polynomial Kernel and visualize the decision boundary.\n",
        "\n",
        "import numpy as np\n",
        "import matplotlib.pyplot as plt\n",
        "from sklearn.datasets import make_classification\n",
        "from sklearn.svm import SVC\n",
        "\n",
        "# Generate synthetic dataset\n",
        "X, y = make_classification(\n",
        "    n_features=2,\n",
        "    n_classes=2,\n",
        "    n_clusters_per_class=1,\n",
        "    n_informative=2,\n",
        "    n_redundant=0,\n",
        "    random_state=42,\n",
        "    n_samples=100\n",
        ")\n",
        "\n",
        "# Train SVM with Polynomial Kernel\n",
        "svm_poly = SVC(kernel='poly', degree=3, random_state=42)\n",
        "svm_poly.fit(X, y)\n",
        "\n",
        "# Plot decision boundary\n",
        "xx, yy = np.meshgrid(\n",
        "    np.linspace(X[:, 0].min() - 1, X[:, 0].max() + 1, 500),\n",
        "    np.linspace(X[:, 1].min() - 1, X[:, 1].max() + 1, 500)\n",
        ")\n",
        "Z = svm_poly.predict(np.c_[xx.ravel(), yy.ravel()])\n",
        "Z = Z.reshape(xx.shape)\n",
        "\n",
        "plt.contourf(xx, yy, Z, alpha=0.8, cmap=plt.cm.Paired)\n",
        "plt.scatter(X[:, 0], X[:, 1], c=y, edgecolor='k', cmap=plt.cm.Paired)\n",
        "plt.title(\"SVM with Polynomial Kernel\")\n",
        "plt.show()\n"
      ],
      "metadata": {
        "colab": {
          "base_uri": "https://localhost:8080/",
          "height": 452
        },
        "id": "Wwxi3xatY9Hb",
        "outputId": "efd17ce3-073a-46b4-a73a-c37b09420275"
      },
      "execution_count": 5,
      "outputs": [
        {
          "output_type": "display_data",
          "data": {
            "text/plain": [
              "<Figure size 640x480 with 1 Axes>"
            ],
            "image/png": "[encoded data removed]"
          },
          "metadata": {}
        }
      ]
    },
    {
      "cell_type": "code",
      "source": [
        "# Question: Train a Gaussian Naïve Bayes classifier on the Breast Cancer dataset and evaluate accuracy.\n",
        "\n",
        "from sklearn.datasets import load_breast_cancer\n",
        "from sklearn.model_selection import train_test_split\n",
        "from sklearn.naive_bayes import GaussianNB\n",
        "from sklearn.metrics import accuracy_score\n",
        "\n",
        "# Load dataset\n",
        "cancer = load_breast_cancer()\n",
        "X, y = cancer.data, cancer.target\n",
        "\n",
        "# Split data\n",
        "X_train, X_test, y_train, y_test = train_test_split(X, y, test_size=0.3, random_state=42)\n",
        "\n",
        "# Train Gaussian Naïve Bayes\n",
        "gnb = GaussianNB()\n",
        "gnb.fit(X_train, y_train)\n",
        "\n",
        "# Predict and evaluate\n",
        "y_pred = gnb.predict(X_test)\n",
        "accuracy = accuracy_score(y_test, y_pred)\n",
        "\n",
        "print(f\"Accuracy: {accuracy:.2f}\")\n"
      ],
      "metadata": {
        "colab": {
          "base_uri": "https://localhost:8080/"
        },
        "id": "K7AovtORY_JI",
        "outputId": "3f0b189b-e825-40b2-e82d-a7e7a7c14bec"
      },
      "execution_count": 6,
      "outputs": [
        {
          "output_type": "stream",
          "name": "stdout",
          "text": [
            "Accuracy: 0.94\n"
          ]
        }
      ]
    },
    {
      "cell_type": "code",
      "source": [
        "# Question: Train a Multinomial Naïve Bayes classifier for text classification using the 20 Newsgroups dataset.\n",
        "\n",
        "from sklearn.datasets import fetch_20newsgroups\n",
        "from sklearn.feature_extraction.text import CountVectorizer\n",
        "from sklearn.model_selection import train_test_split\n",
        "from sklearn.naive_bayes import MultinomialNB\n",
        "from sklearn.metrics import accuracy_score\n",
        "\n",
        "# Load dataset\n",
        "news = fetch_20newsgroups(subset='all', categories=['sci.space', 'rec.sport.baseball'], remove=('headers', 'footers', 'quotes'))\n",
        "X, y = news.data, news.target\n",
        "\n",
        "# Vectorize text\n",
        "vectorizer = CountVectorizer(stop_words='english')\n",
        "X_vectorized = vectorizer.fit_transform(X)\n",
        "\n",
        "# Split data\n",
        "X_train, X_test, y_train, y_test = train_test_split(X_vectorized, y, test_size=0.3, random_state=42)\n",
        "\n",
        "# Train Multinomial Naïve Bayes\n",
        "mnb = MultinomialNB()\n",
        "mnb.fit(X_train, y_train)\n",
        "\n",
        "# Predict and evaluate\n",
        "y_pred = mnb.predict(X_test)\n",
        "accuracy = accuracy_score(y_test, y_pred)\n",
        "\n",
        "print(f\"Accuracy: {accuracy:.2f}\")\n"
      ],
      "metadata": {
        "colab": {
          "base_uri": "https://localhost:8080/"
        },
        "id": "lKSHY_bcZUjj",
        "outputId": "fc55abaa-aacd-4a33-9d7e-3ffb6bbd049e"
      },
      "execution_count": 7,
      "outputs": [
        {
          "output_type": "stream",
          "name": "stdout",
          "text": [
            "Accuracy: 0.95\n"
          ]
        }
      ]
    },
    {
      "cell_type": "code",
      "source": [
        "# Question 21: Write a Python program to train an SVM Classifier on the Iris dataset and evaluate accuracy.\n",
        "\n",
        "from sklearn import datasets\n",
        "from sklearn.model_selection import train_test_split\n",
        "from sklearn.svm import SVC\n",
        "from sklearn.metrics import accuracy_score\n",
        "\n",
        "iris = datasets.load_iris()\n",
        "X = iris.data\n",
        "y = iris.target\n",
        "\n",
        "X_train, X_test, y_train, y_test = train_test_split(X, y, test_size=0.2, random_state=42)\n",
        "\n",
        "clf = SVC(kernel='linear')\n",
        "clf.fit(X_train, y_train)\n",
        "\n",
        "y_pred = clf.predict(X_test)\n",
        "accuracy = accuracy_score(y_test, y_pred)\n",
        "print(\"Accuracy:\", accuracy)\n"
      ],
      "metadata": {
        "colab": {
          "base_uri": "https://localhost:8080/"
        },
        "id": "EwFng60gbnJz",
        "outputId": "78820241-23fb-430b-a595-30763f7ef7eb"
      },
      "execution_count": 8,
      "outputs": [
        {
          "output_type": "stream",
          "name": "stdout",
          "text": [
            "Accuracy: 1.0\n"
          ]
        }
      ]
    },
    {
      "cell_type": "code",
      "source": [
        "# Question 22: Write a Python program to train two SVM classifiers with Linear and RBF kernels on the Wine dataset, then compare their accuracies.\n",
        "\n",
        "from sklearn.datasets import load_wine\n",
        "from sklearn.model_selection import train_test_split\n",
        "from sklearn.svm import SVC\n",
        "from sklearn.metrics import accuracy_score\n",
        "\n",
        "wine = load_wine()\n",
        "X = wine.data\n",
        "y = wine.target\n",
        "\n",
        "X_train, X_test, y_train, y_test = train_test_split(X, y, test_size=0.2, random_state=42)\n",
        "\n",
        "linear_clf = SVC(kernel='linear')\n",
        "linear_clf.fit(X_train, y_train)\n",
        "linear_accuracy = accuracy_score(y_test, linear_clf.predict(X_test))\n",
        "\n",
        "rbf_clf = SVC(kernel='rbf')\n",
        "rbf_clf.fit(X_train, y_train)\n",
        "rbf_accuracy = accuracy_score(y_test, rbf_clf.predict(X_test))\n",
        "\n",
        "print(\"Accuracy with Linear Kernel:\", linear_accuracy)\n",
        "print(\"Accuracy with RBF Kernel:\", rbf_accuracy)\n"
      ],
      "metadata": {
        "colab": {
          "base_uri": "https://localhost:8080/"
        },
        "id": "KBhSwFKLbnHe",
        "outputId": "dae7dbfc-52bb-4ae5-f981-0da943f4e793"
      },
      "execution_count": 9,
      "outputs": [
        {
          "output_type": "stream",
          "name": "stdout",
          "text": [
            "Accuracy with Linear Kernel: 1.0\n",
            "Accuracy with RBF Kernel: 0.8055555555555556\n"
          ]
        }
      ]
    },
    {
      "cell_type": "code",
      "source": [
        "# Question 23: Write a Python program to train an SVM Regressor (SVR) on a housing dataset and evaluate it using Mean Squared Error (MSE).\n",
        "\n",
        "from sklearn.datasets import fetch_california_housing\n",
        "from sklearn.svm import SVR\n",
        "from sklearn.model_selection import train_test_split\n",
        "from sklearn.metrics import mean_squared_error\n",
        "from sklearn.preprocessing import StandardScaler\n",
        "\n",
        "housing = fetch_california_housing()\n",
        "X = housing.data\n",
        "y = housing.target\n",
        "\n",
        "X_train, X_test, y_train, y_test = train_test_split(X, y, test_size=0.2, random_state=42)\n",
        "\n",
        "scaler = StandardScaler()\n",
        "X_train = scaler.fit_transform(X_train)\n",
        "X_test = scaler.transform(X_test)\n",
        "\n",
        "svr = SVR(kernel='rbf')\n",
        "svr.fit(X_train, y_train)\n",
        "\n",
        "y_pred = svr.predict(X_test)\n",
        "mse = mean_squared_error(y_test, y_pred)\n",
        "print(\"Mean Squared Error:\", mse)\n"
      ],
      "metadata": {
        "colab": {
          "base_uri": "https://localhost:8080/"
        },
        "id": "mhxH5JIGbnFL",
        "outputId": "fb014813-62e5-4fb1-fbad-28a862119c85"
      },
      "execution_count": 10,
      "outputs": [
        {
          "output_type": "stream",
          "name": "stdout",
          "text": [
            "Mean Squared Error: 0.3570026426754463\n"
          ]
        }
      ]
    },
    {
      "cell_type": "code",
      "source": [
        "# Question 24: Write a Python program to train an SVM Classifier with a Polynomial Kernel and visualize the decision boundary.\n",
        "\n",
        "import numpy as np\n",
        "import matplotlib.pyplot as plt\n",
        "from sklearn.datasets import make_classification\n",
        "from sklearn.svm import SVC\n",
        "\n",
        "# Generate synthetic dataset\n",
        "X, y = make_classification(n_samples=100, n_features=2, n_redundant=0, n_informative=2,\n",
        "                           n_clusters_per_class=1, random_state=42)\n",
        "\n",
        "clf = SVC(kernel='poly', degree=3, C=1)\n",
        "clf.fit(X, y)\n",
        "\n",
        "# Plot decision boundary\n",
        "def plot_decision_boundary(clf, X, y):\n",
        "    x_min, x_max = X[:, 0].min() - 1, X[:, 0].max() + 1\n",
        "    y_min, y_max = X[:, 1].min() - 1, X[:, 1].max() + 1\n",
        "    xx, yy = np.meshgrid(np.linspace(x_min, x_max, 500),\n",
        "                         np.linspace(y_min, y_max, 500))\n",
        "    Z = clf.predict(np.c_[xx.ravel(), yy.ravel()])\n",
        "    Z = Z.reshape(xx.shape)\n",
        "\n",
        "    plt.contourf(xx, yy, Z, alpha=0.3)\n",
        "    plt.scatter(X[:, 0], X[:, 1], c=y, edgecolors='k')\n",
        "    plt.title(\"SVM with Polynomial Kernel Decision Boundary\")\n",
        "    plt.show()\n",
        "\n",
        "plot_decision_boundary(clf, X, y)\n"
      ],
      "metadata": {
        "colab": {
          "base_uri": "https://localhost:8080/",
          "height": 452
        },
        "id": "zWGbzVdBbnC0",
        "outputId": "55b0f56c-bc30-4bf5-a19b-bc5ed442ec9b"
      },
      "execution_count": 11,
      "outputs": [
        {
          "output_type": "display_data",
          "data": {
            "text/plain": [
              "<Figure size 640x480 with 1 Axes>"
            ],
            "image/png": "[encoded data removed]"
          },
          "metadata": {}
        }
      ]
    },
    {
      "cell_type": "code",
      "source": [
        "# Question 25: Write a Python program to train a Gaussian Naïve Bayes classifier on the Breast Cancer dataset and evaluate accuracy.\n",
        "\n",
        "from sklearn.datasets import load_breast_cancer\n",
        "from sklearn.naive_bayes import GaussianNB\n",
        "from sklearn.model_selection import train_test_split\n",
        "from sklearn.metrics import accuracy_score\n",
        "\n",
        "data = load_breast_cancer()\n",
        "X = data.data\n",
        "y = data.target\n",
        "\n",
        "X_train, X_test, y_train, y_test = train_test_split(X, y, test_size=0.2, random_state=42)\n",
        "\n",
        "gnb = GaussianNB()\n",
        "gnb.fit(X_train, y_train)\n",
        "\n",
        "y_pred = gnb.predict(X_test)\n",
        "accuracy = accuracy_score(y_test, y_pred)\n",
        "print(\"Accuracy:\", accuracy)\n"
      ],
      "metadata": {
        "colab": {
          "base_uri": "https://localhost:8080/"
        },
        "id": "bmgl-k1XbnAd",
        "outputId": "85e44033-d471-4e0c-bd38-f45cd1bc4711"
      },
      "execution_count": 12,
      "outputs": [
        {
          "output_type": "stream",
          "name": "stdout",
          "text": [
            "Accuracy: 0.9736842105263158\n"
          ]
        }
      ]
    },
    {
      "cell_type": "code",
      "source": [
        "# Question 26: Write a Python program to train a Multinomial Naïve Bayes classifier for text classification using the 20 Newsgroups dataset.\n",
        "\n",
        "from sklearn.datasets import fetch_20newsgroups\n",
        "from sklearn.feature_extraction.text import CountVectorizer\n",
        "from sklearn.naive_bayes import MultinomialNB\n",
        "from sklearn.model_selection import train_test_split\n",
        "from sklearn.metrics import accuracy_score\n",
        "\n",
        "newsgroups = fetch_20newsgroups(subset='all')\n",
        "X = newsgroups.data\n",
        "y = newsgroups.target\n",
        "\n",
        "vectorizer = CountVectorizer(stop_words='english')\n",
        "X_vec = vectorizer.fit_transform(X)\n",
        "\n",
        "X_train, X_test, y_train, y_test = train_test_split(X_vec, y, test_size=0.2, random_state=42)\n",
        "\n",
        "mnb = MultinomialNB()\n",
        "mnb.fit(X_train, y_train)\n",
        "\n",
        "y_pred = mnb.predict(X_test)\n",
        "accuracy = accuracy_score(y_test, y_pred)\n",
        "print(\"Accuracy:\", accuracy)\n"
      ],
      "metadata": {
        "colab": {
          "base_uri": "https://localhost:8080/"
        },
        "id": "TAOxUrlNbm-A",
        "outputId": "8a620d91-3159-435e-9342-295c82b097b6"
      },
      "execution_count": 14,
      "outputs": [
        {
          "output_type": "stream",
          "name": "stdout",
          "text": [
            "Accuracy: 0.8742705570291777\n"
          ]
        }
      ]
    },
    {
      "cell_type": "code",
      "source": [
        "# Question 27: Write a Python program to train an SVM Classifier with different C values and compare the decision boundaries visually.\n",
        "\n",
        "import numpy as np\n",
        "import matplotlib.pyplot as plt\n",
        "from sklearn.datasets import make_classification\n",
        "from sklearn.svm import SVC\n",
        "\n",
        "X, y = make_classification(n_samples=100, n_features=2, n_redundant=0, n_informative=2,\n",
        "                           n_clusters_per_class=1, random_state=42)\n",
        "\n",
        "def plot_svm_decision_boundary(C_value):\n",
        "    clf = SVC(kernel='linear', C=C_value)\n",
        "    clf.fit(X, y)\n",
        "\n",
        "    x_min, x_max = X[:, 0].min() - 1, X[:, 0].max() + 1\n",
        "    y_min, y_max = X[:, 1].min() - 1, X[:, 1].max() + 1\n",
        "    xx, yy = np.meshgrid(np.linspace(x_min, x_max, 500),\n",
        "                         np.linspace(y_min, y_max, 500))\n",
        "    Z = clf.predict(np.c_[xx.ravel(), yy.ravel()]).reshape(xx.shape)\n",
        "\n",
        "    plt.contourf(xx, yy, Z, alpha=0.3)\n",
        "    plt.scatter(X[:, 0], X[:, 1], c=y, edgecolors='k')\n",
        "    plt.title(f\"SVM Decision Boundary with C={C_value}\")\n",
        "    plt.show()\n",
        "\n",
        "for c in [0.01, 1, 100]:\n",
        "    plot_svm_decision_boundary(c)\n"
      ],
      "metadata": {
        "colab": {
          "base_uri": "https://localhost:8080/",
          "height": 1000
        },
        "id": "Z4_PL83rbm7c",
        "outputId": "c5b04048-0fbc-4e82-a13a-a57db63da83d"
      },
      "execution_count": 13,
      "outputs": [
        {
          "output_type": "display_data",
          "data": {
            "text/plain": [
              "<Figure size 640x480 with 1 Axes>"
            ],
            "image/png": "[encoded data removed]"
          },
          "metadata": {}
        },
        {
          "output_type": "display_data",
          "data": {
            "text/plain": [
              "<Figure size 640x480 with 1 Axes>"
            ],
            "image/png": "[encoded data removed]"
          },
          "metadata": {}
        },
        {
          "output_type": "display_data",
          "data": {
            "text/plain": [
              "<Figure size 640x480 with 1 Axes>"
            ],
            "image/png": "[encoded data removed]"
          },
          "metadata": {}
        }
      ]
    },
    {
      "cell_type": "code",
      "source": [
        "# Question 28: Write a Python program to train a Bernoulli Naïve Bayes classifier for binary classification on a dataset with binary features.\n",
        "\n",
        "from sklearn.naive_bayes import BernoulliNB\n",
        "from sklearn.datasets import make_classification\n",
        "from sklearn.model_selection import train_test_split\n",
        "from sklearn.metrics import accuracy_score\n",
        "\n",
        "X, y = make_classification(n_samples=200, n_features=10, n_informative=5, n_redundant=0,\n",
        "                           n_classes=2, random_state=42)\n",
        "\n",
        "# Binarize features (make them binary)\n",
        "X = (X > 0).astype(int)\n",
        "\n",
        "X_train, X_test, y_train, y_test = train_test_split(X, y, test_size=0.2, random_state=42)\n",
        "\n",
        "bnb = BernoulliNB()\n",
        "bnb.fit(X_train, y_train)\n",
        "\n",
        "y_pred = bnb.predict(X_test)\n",
        "accuracy = accuracy_score(y_test, y_pred)\n",
        "print(\"Accuracy:\", accuracy)\n"
      ],
      "metadata": {
        "colab": {
          "base_uri": "https://localhost:8080/"
        },
        "id": "7sEVVXHybm4q",
        "outputId": "011c555c-7a52-49e1-f510-e982f332efc1"
      },
      "execution_count": 15,
      "outputs": [
        {
          "output_type": "stream",
          "name": "stdout",
          "text": [
            "Accuracy: 0.575\n"
          ]
        }
      ]
    },
    {
      "cell_type": "code",
      "source": [
        "# Question 29: Write a Python program to apply feature scaling before training an SVM model and compare results with unscaled data.\n",
        "\n",
        "from sklearn.datasets import load_wine\n",
        "from sklearn.svm import SVC\n",
        "from sklearn.preprocessing import StandardScaler\n",
        "from sklearn.model_selection import train_test_split\n",
        "from sklearn.metrics import accuracy_score\n",
        "\n",
        "wine = load_wine()\n",
        "X = wine.data\n",
        "y = wine.target\n",
        "\n",
        "X_train, X_test, y_train, y_test = train_test_split(X, y, test_size=0.2, random_state=42)\n",
        "\n",
        "# Without scaling\n",
        "clf_unscaled = SVC()\n",
        "clf_unscaled.fit(X_train, y_train)\n",
        "acc_unscaled = accuracy_score(y_test, clf_unscaled.predict(X_test))\n",
        "\n",
        "# With scaling\n",
        "scaler = StandardScaler()\n",
        "X_train_scaled = scaler.fit_transform(X_train)\n",
        "X_test_scaled = scaler.transform(X_test)\n",
        "\n",
        "clf_scaled = SVC()\n",
        "clf_scaled.fit(X_train_scaled, y_train)\n",
        "acc_scaled = accuracy_score(y_test, clf_scaled.predict(X_test_scaled))\n",
        "\n",
        "print(f\"Accuracy without scaling: {acc_unscaled}\")\n",
        "print(f\"Accuracy with scaling: {acc_scaled}\")\n"
      ],
      "metadata": {
        "colab": {
          "base_uri": "https://localhost:8080/"
        },
        "id": "xC4wQgINbm2W",
        "outputId": "138cfc6e-ea8d-4c1e-bd00-d9048776110d"
      },
      "execution_count": 16,
      "outputs": [
        {
          "output_type": "stream",
          "name": "stdout",
          "text": [
            "Accuracy without scaling: 0.8055555555555556\n",
            "Accuracy with scaling: 1.0\n"
          ]
        }
      ]
    },
    {
      "cell_type": "code",
      "source": [
        "# Question 30: Write a Python program to train a Gaussian Naïve Bayes model and compare the predictions before and after Laplace Smoothing.\n",
        "\n",
        "# Note: Laplace smoothing is primarily used with Multinomial/Bernoulli NB, not GaussianNB.\n",
        "# Here, we show GaussianNB normally, and then show MultinomialNB with Laplace smoothing for illustration.\n",
        "\n",
        "from sklearn.datasets import load_iris\n",
        "from sklearn.naive_bayes import GaussianNB, MultinomialNB\n",
        "from sklearn.model_selection import train_test_split\n",
        "from sklearn.metrics import accuracy_score\n",
        "from sklearn.preprocessing import KBinsDiscretizer\n",
        "import numpy as np\n",
        "\n",
        "# Load iris data\n",
        "data = load_iris()\n",
        "X = data.data\n",
        "y = data.target\n",
        "\n",
        "X_train, X_test, y_train, y_test = train_test_split(X, y, test_size=0.2, random_state=42)\n",
        "\n",
        "# Gaussian NB\n",
        "gnb = GaussianNB()\n",
        "gnb.fit(X_train, y_train)\n",
        "y_pred_gnb = gnb.predict(X_test)\n",
        "acc_gnb = accuracy_score(y_test, y_pred_gnb)\n",
        "\n",
        "# Multinomial NB requires discrete data, so discretize features\n",
        "discretizer = KBinsDiscretizer(n_bins=5, encode='ordinal', strategy='uniform')\n",
        "X_discrete = discretizer.fit_transform(X)\n",
        "X_train_d, X_test_d, y_train_d, y_test_d = train_test_split(X_discrete, y, test_size=0.2, random_state=42)\n",
        "\n",
        "# Multinomial NB without smoothing (alpha=0)\n",
        "mnb_no_smooth = MultinomialNB(alpha=0.0)\n",
        "mnb_no_smooth.fit(X_train_d, y_train_d)\n",
        "y_pred_no_smooth = mnb_no_smooth.predict(X_test_d)\n",
        "acc_no_smooth = accuracy_score(y_test_d, y_pred_no_smooth)\n",
        "\n",
        "# Multinomial NB with Laplace smoothing (alpha=1)\n",
        "mnb_smooth = MultinomialNB(alpha=1.0)\n",
        "mnb_smooth.fit(X_train_d, y_train_d)\n",
        "y_pred_smooth = mnb_smooth.predict(X_test_d)\n",
        "acc_smooth = accuracy_score(y_test_d, y_pred_smooth)\n",
        "\n",
        "print(f\"Gaussian NB Accuracy: {acc_gnb}\")\n",
        "print(f\"Multinomial NB Accuracy without Laplace smoothing: {acc_no_smooth}\")\n",
        "print(f\"Multinomial NB Accuracy with Laplace smoothing: {acc_smooth}\")\n"
      ],
      "metadata": {
        "colab": {
          "base_uri": "https://localhost:8080/"
        },
        "id": "tXk1KoI_bmz8",
        "outputId": "aed5bd80-55a1-4da0-f235-828329902386"
      },
      "execution_count": 17,
      "outputs": [
        {
          "output_type": "stream",
          "name": "stdout",
          "text": [
            "Gaussian NB Accuracy: 1.0\n",
            "Multinomial NB Accuracy without Laplace smoothing: 0.7666666666666667\n",
            "Multinomial NB Accuracy with Laplace smoothing: 0.7666666666666667\n"
          ]
        },
        {
          "output_type": "stream",
          "name": "stderr",
          "text": [
            "/usr/local/lib/python3.11/dist-packages/sklearn/naive_bayes.py:898: RuntimeWarning: divide by zero encountered in log\n",
            "  self.feature_log_prob_ = np.log(smoothed_fc) - np.log(\n",
            "/usr/local/lib/python3.11/dist-packages/sklearn/utils/extmath.py:203: RuntimeWarning: invalid value encountered in matmul\n",
            "  ret = a @ b\n"
          ]
        }
      ]
    },
    {
      "cell_type": "code",
      "source": [
        "# Question 31: Write a Python program to train an SVM Classifier and use GridSearchCV to tune the hyperparameters (C, gamma, kernel).\n",
        "\n",
        "from sklearn.datasets import load_iris\n",
        "from sklearn.svm import SVC\n",
        "from sklearn.model_selection import GridSearchCV, train_test_split\n",
        "\n",
        "iris = load_iris()\n",
        "X = iris.data\n",
        "y = iris.target\n",
        "\n",
        "X_train, X_test, y_train, y_test = train_test_split(X, y, test_size=0.2, random_state=42)\n",
        "\n",
        "parameters = {'C':[0.1,1,10], 'gamma':[0.001,0.01,0.1], 'kernel':['rbf', 'linear']}\n",
        "\n",
        "svc = SVC()\n",
        "grid_search = GridSearchCV(svc, parameters, cv=5)\n",
        "grid_search.fit(X_train, y_train)\n",
        "\n",
        "print(\"Best parameters:\", grid_search.best_params_)\n",
        "print(\"Best cross-validation score:\", grid_search.best_score_)\n",
        "print(\"Test set score:\", grid_search.score(X_test, y_test))\n"
      ],
      "metadata": {
        "colab": {
          "base_uri": "https://localhost:8080/"
        },
        "id": "u-FnVJkubmxj",
        "outputId": "6c33b4ef-c338-48cf-eedf-cd415423ea36"
      },
      "execution_count": 18,
      "outputs": [
        {
          "output_type": "stream",
          "name": "stdout",
          "text": [
            "Best parameters: {'C': 1, 'gamma': 0.001, 'kernel': 'linear'}\n",
            "Best cross-validation score: 0.9583333333333334\n",
            "Test set score: 1.0\n"
          ]
        }
      ]
    },
    {
      "cell_type": "code",
      "source": [
        "# Question 32: Write a Python program to train an SVM Classifier on an imbalanced dataset and apply class weighting and check it improve accuracy.\n",
        "\n",
        "from sklearn.datasets import make_classification\n",
        "from sklearn.svm import SVC\n",
        "from sklearn.model_selection import train_test_split\n",
        "from sklearn.metrics import accuracy_score, classification_report\n",
        "\n",
        "X, y = make_classification(n_samples=1000, n_features=20, weights=[0.9, 0.1], random_state=42)\n",
        "\n",
        "X_train, X_test, y_train, y_test = train_test_split(X, y, test_size=0.2, random_state=42)\n",
        "\n",
        "# Without class weights\n",
        "clf_no_weight = SVC()\n",
        "clf_no_weight.fit(X_train, y_train)\n",
        "y_pred_no_weight = clf_no_weight.predict(X_test)\n",
        "acc_no_weight = accuracy_score(y_test, y_pred_no_weight)\n",
        "\n",
        "# With class weights\n",
        "clf_weight = SVC(class_weight='balanced')\n",
        "clf_weight.fit(X_train, y_train)\n",
        "y_pred_weight = clf_weight.predict(X_test)\n",
        "acc_weight = accuracy_score(y_test, y_pred_weight)\n",
        "\n",
        "print(f\"Accuracy without class weighting: {acc_no_weight}\")\n",
        "print(f\"Accuracy with class weighting: {acc_weight}\")\n",
        "print(\"Classification report with class weighting:\\n\", classification_report(y_test, y_pred_weight))\n"
      ],
      "metadata": {
        "colab": {
          "base_uri": "https://localhost:8080/"
        },
        "id": "Ri9O26F4bmuZ",
        "outputId": "05765ea8-6633-450d-87e3-420434f7a84f"
      },
      "execution_count": 19,
      "outputs": [
        {
          "output_type": "stream",
          "name": "stdout",
          "text": [
            "Accuracy without class weighting: 0.895\n",
            "Accuracy with class weighting: 0.895\n",
            "Classification report with class weighting:\n",
            "               precision    recall  f1-score   support\n",
            "\n",
            "           0       0.94      0.94      0.94       180\n",
            "           1       0.47      0.45      0.46        20\n",
            "\n",
            "    accuracy                           0.90       200\n",
            "   macro avg       0.71      0.70      0.70       200\n",
            "weighted avg       0.89      0.90      0.89       200\n",
            "\n"
          ]
        }
      ]
    },
    {
      "cell_type": "code",
      "source": [
        "# Question 33: Write a Python program to implement a Naïve Bayes classifier for spam detection using email data.\n",
        "\n",
        "# For simplicity, use sklearn's fetch_20newsgroups dataset to simulate spam vs ham classification\n",
        "\n",
        "from sklearn.datasets import fetch_20newsgroups\n",
        "from sklearn.feature_extraction.text import CountVectorizer\n",
        "from sklearn.naive_bayes import MultinomialNB\n",
        "from sklearn.model_selection import train_test_split\n",
        "from sklearn.metrics import accuracy_score\n",
        "\n",
        "categories = ['rec.autos', 'sci.med']  # pretending rec.autos = ham, sci.med = spam (example)\n",
        "\n",
        "data = fetch_20newsgroups(subset='all', categories=categories, remove=('headers', 'footers', 'quotes'))\n",
        "X = data.data\n",
        "y = data.target\n",
        "\n",
        "vectorizer = CountVectorizer(stop_words='english')\n",
        "X_vec = vectorizer.fit_transform(X)\n",
        "\n",
        "X_train, X_test, y_train, y_test = train_test_split(X_vec, y, test_size=0.2, random_state=42)\n",
        "\n",
        "nb = MultinomialNB()\n",
        "nb.fit(X_train, y_train)\n",
        "\n",
        "y_pred = nb.predict(X_test)\n",
        "accuracy = accuracy_score(y_test, y_pred)\n",
        "print(\"Spam detection accuracy:\", accuracy)\n"
      ],
      "metadata": {
        "colab": {
          "base_uri": "https://localhost:8080/"
        },
        "id": "BamC8L6IbmrZ",
        "outputId": "bb26efc5-7a53-4b6e-aec1-9419cb0135c7"
      },
      "execution_count": 20,
      "outputs": [
        {
          "output_type": "stream",
          "name": "stdout",
          "text": [
            "Spam detection accuracy: 0.9343434343434344\n"
          ]
        }
      ]
    },
    {
      "cell_type": "code",
      "source": [
        "# Question 34: Write a Python program to train an SVM Classifier and a Naïve Bayes Classifier on the same dataset and compare their accuracy.\n",
        "\n",
        "from sklearn.datasets import load_wine\n",
        "from sklearn.model_selection import train_test_split\n",
        "from sklearn.svm import SVC\n",
        "from sklearn.naive_bayes import GaussianNB\n",
        "from sklearn.metrics import accuracy_score\n",
        "\n",
        "# Load dataset\n",
        "wine = load_wine()\n",
        "X = wine.data\n",
        "y = wine.target\n",
        "\n",
        "# Split data\n",
        "X_train, X_test, y_train, y_test = train_test_split(X, y, test_size=0.2, random_state=42)\n",
        "\n",
        "# Train SVM Classifier\n",
        "svm_clf = SVC()\n",
        "svm_clf.fit(X_train, y_train)\n",
        "y_pred_svm = svm_clf.predict(X_test)\n",
        "acc_svm = accuracy_score(y_test, y_pred_svm)\n",
        "\n",
        "# Train Naive Bayes Classifier\n",
        "nb_clf = GaussianNB()\n",
        "nb_clf.fit(X_train, y_train)\n",
        "y_pred_nb = nb_clf.predict(X_test)\n",
        "acc_nb = accuracy_score(y_test, y_pred_nb)\n",
        "\n",
        "print(f\"SVM Classifier Accuracy: {acc_svm}\")\n",
        "print(f\"Naive Bayes Classifier Accuracy: {acc_nb}\")\n"
      ],
      "metadata": {
        "colab": {
          "base_uri": "https://localhost:8080/"
        },
        "id": "5ZLs_EeTbmox",
        "outputId": "6febb06b-a18c-4b68-90be-3f01518a3655"
      },
      "execution_count": 22,
      "outputs": [
        {
          "output_type": "stream",
          "name": "stdout",
          "text": [
            "SVM Classifier Accuracy: 0.8055555555555556\n",
            "Naive Bayes Classifier Accuracy: 1.0\n"
          ]
        }
      ]
    },
    {
      "cell_type": "code",
      "source": [
        "# Question 35: Write a Python program to perform feature selection before training a Naive Bayes classifier and compare results.\n",
        "\n",
        "from sklearn.datasets import load_wine\n",
        "from sklearn.feature_selection import SelectKBest, chi2\n",
        "from sklearn.model_selection import train_test_split\n",
        "from sklearn.naive_bayes import GaussianNB\n",
        "from sklearn.metrics import accuracy_score\n",
        "\n",
        "wine = load_wine()\n",
        "X = wine.data\n",
        "y = wine.target\n",
        "\n",
        "# Select top 5 features using chi-squared test\n",
        "selector = SelectKBest(chi2, k=5)\n",
        "X_new = selector.fit_transform(X, y)\n",
        "\n",
        "X_train, X_test, y_train, y_test = train_test_split(X, y, test_size=0.2, random_state=42)\n",
        "X_train_new, X_test_new = selector.transform(X_train), selector.transform(X_test)\n",
        "\n",
        "# Naive Bayes with all features\n",
        "nb_all = GaussianNB()\n",
        "nb_all.fit(X_train, y_train)\n",
        "acc_all = accuracy_score(y_test, nb_all.predict(X_test))\n",
        "\n",
        "# Naive Bayes with selected features\n",
        "nb_selected = GaussianNB()\n",
        "nb_selected.fit(X_train_new, y_train)\n",
        "acc_selected = accuracy_score(y_test, nb_selected.predict(X_test_new))\n",
        "\n",
        "print(f\"Accuracy with all features: {acc_all}\")\n",
        "print(f\"Accuracy with selected features: {acc_selected}\")\n"
      ],
      "metadata": {
        "colab": {
          "base_uri": "https://localhost:8080/"
        },
        "id": "IWcV7WA7bmmD",
        "outputId": "6369dc1b-12d5-49ce-a2b3-7408208c7f48"
      },
      "execution_count": 23,
      "outputs": [
        {
          "output_type": "stream",
          "name": "stdout",
          "text": [
            "Accuracy with all features: 1.0\n",
            "Accuracy with selected features: 0.9444444444444444\n"
          ]
        }
      ]
    },
    {
      "cell_type": "code",
      "source": [
        "# Question 36: Write a Python program to train an SVM Classifier using One-vs-Rest (OvR) and One-vs-One (OvO) strategies on the Wine dataset and compare their accuracy.\n",
        "\n",
        "from sklearn.datasets import load_wine\n",
        "from sklearn.svm import SVC\n",
        "from sklearn.multiclass import OneVsRestClassifier, OneVsOneClassifier\n",
        "from sklearn.model_selection import train_test_split\n",
        "from sklearn.metrics import accuracy_score\n",
        "\n",
        "wine = load_wine()\n",
        "X = wine.data\n",
        "y = wine.target\n",
        "\n",
        "X_train, X_test, y_train, y_test = train_test_split(X, y, test_size=0.2, random_state=42)\n",
        "\n",
        "# OvR strategy\n",
        "ovr_clf = OneVsRestClassifier(SVC())\n",
        "ovr_clf.fit(X_train, y_train)\n",
        "y_pred_ovr = ovr_clf.predict(X_test)\n",
        "acc_ovr = accuracy_score(y_test, y_pred_ovr)\n",
        "\n",
        "# OvO strategy\n",
        "ovo_clf = OneVsOneClassifier(SVC())\n",
        "ovo_clf.fit(X_train, y_train)\n",
        "y_pred_ovo = ovo_clf.predict(X_test)\n",
        "acc_ovo = accuracy_score(y_test, y_pred_ovo)\n",
        "\n",
        "print(f\"OvR Accuracy: {acc_ovr}\")\n",
        "print(f\"OvO Accuracy: {acc_ovo}\")\n"
      ],
      "metadata": {
        "colab": {
          "base_uri": "https://localhost:8080/"
        },
        "id": "qRdg6ya4bmjb",
        "outputId": "5475b90a-079e-4808-bd80-db56d374f52c"
      },
      "execution_count": 24,
      "outputs": [
        {
          "output_type": "stream",
          "name": "stdout",
          "text": [
            "OvR Accuracy: 0.7777777777777778\n",
            "OvO Accuracy: 0.8333333333333334\n"
          ]
        }
      ]
    },
    {
      "cell_type": "code",
      "source": [
        "# Question 37: Write a Python program to train an SVM Classifier using Linear, Polynomial, and RBF kernels on the Breast Cancer dataset and compare their accuracy.\n",
        "\n",
        "from sklearn.datasets import load_breast_cancer\n",
        "from sklearn.svm import SVC\n",
        "from sklearn.model_selection import train_test_split\n",
        "from sklearn.metrics import accuracy_score\n",
        "\n",
        "data = load_breast_cancer()\n",
        "X = data.data\n",
        "y = data.target\n",
        "\n",
        "X_train, X_test, y_train, y_test = train_test_split(X, y, test_size=0.2, random_state=42)\n",
        "\n",
        "kernels = ['linear', 'poly', 'rbf']\n",
        "for kernel in kernels:\n",
        "    clf = SVC(kernel=kernel)\n",
        "    clf.fit(X_train, y_train)\n",
        "    y_pred = clf.predict(X_test)\n",
        "    acc = accuracy_score(y_test, y_pred)\n",
        "    print(f\"Accuracy with {kernel} kernel: {acc}\")\n"
      ],
      "metadata": {
        "colab": {
          "base_uri": "https://localhost:8080/"
        },
        "id": "bpwgMq_obmgl",
        "outputId": "abb882e2-6164-4520-bab9-172478182abb"
      },
      "execution_count": 25,
      "outputs": [
        {
          "output_type": "stream",
          "name": "stdout",
          "text": [
            "Accuracy with linear kernel: 0.956140350877193\n",
            "Accuracy with poly kernel: 0.9473684210526315\n",
            "Accuracy with rbf kernel: 0.9473684210526315\n"
          ]
        }
      ]
    },
    {
      "cell_type": "code",
      "source": [
        "# Question 38: Write a Python program to train an SVM Classifier using Stratified K-Fold Cross-Validation and compute the average accuracy.\n",
        "\n",
        "from sklearn.datasets import load_iris\n",
        "from sklearn.svm import SVC\n",
        "from sklearn.model_selection import StratifiedKFold\n",
        "from sklearn.metrics import accuracy_score\n",
        "import numpy as np\n",
        "\n",
        "iris = load_iris()\n",
        "X = iris.data\n",
        "y = iris.target\n",
        "\n",
        "skf = StratifiedKFold(n_splits=5)\n",
        "accuracies = []\n",
        "\n",
        "for train_index, test_index in skf.split(X, y):\n",
        "    X_train, X_test = X[train_index], X[test_index]\n",
        "    y_train, y_test = y[train_index], y[test_index]\n",
        "\n",
        "    clf = SVC()\n",
        "    clf.fit(X_train, y_train)\n",
        "    y_pred = clf.predict(X_test)\n",
        "    accuracies.append(accuracy_score(y_test, y_pred))\n",
        "\n",
        "print(f\"Average accuracy from Stratified K-Fold CV: {np.mean(accuracies)}\")\n"
      ],
      "metadata": {
        "colab": {
          "base_uri": "https://localhost:8080/"
        },
        "id": "cPzbuqlebmdg",
        "outputId": "ab907cd8-3f39-451e-ddf9-6ad61268fa79"
      },
      "execution_count": 26,
      "outputs": [
        {
          "output_type": "stream",
          "name": "stdout",
          "text": [
            "Average accuracy from Stratified K-Fold CV: 0.9666666666666666\n"
          ]
        }
      ]
    },
    {
      "cell_type": "code",
      "source": [
        "# Question 39: Write a Python program to train a Naive Bayes classifier using different prior probabilities and compare performance.\n",
        "\n",
        "from sklearn.datasets import load_iris\n",
        "from sklearn.naive_bayes import GaussianNB\n",
        "from sklearn.model_selection import train_test_split\n",
        "from sklearn.metrics import accuracy_score\n",
        "\n",
        "iris = load_iris()\n",
        "X = iris.data\n",
        "y = iris.target\n",
        "\n",
        "X_train, X_test, y_train, y_test = train_test_split(X, y, test_size=0.2, random_state=42)\n",
        "\n",
        "# Default prior (estimated from data)\n",
        "gnb_default = GaussianNB()\n",
        "gnb_default.fit(X_train, y_train)\n",
        "y_pred_default = gnb_default.predict(X_test)\n",
        "acc_default = accuracy_score(y_test, y_pred_default)\n",
        "\n",
        "# Custom prior probabilities (uniform)\n",
        "priors = [1/3, 1/3, 1/3]\n",
        "gnb_custom = GaussianNB(priors=priors)\n",
        "gnb_custom.fit(X_train, y_train)\n",
        "y_pred_custom = gnb_custom.predict(X_test)\n",
        "acc_custom = accuracy_score(y_test, y_pred_custom)\n",
        "\n",
        "print(f\"Accuracy with default priors: {acc_default}\")\n",
        "print(f\"Accuracy with custom uniform priors: {acc_custom}\")\n"
      ],
      "metadata": {
        "colab": {
          "base_uri": "https://localhost:8080/"
        },
        "id": "_lr-F7hpdIpL",
        "outputId": "c8a4a333-7762-4858-d1f6-04575f7516fe"
      },
      "execution_count": 27,
      "outputs": [
        {
          "output_type": "stream",
          "name": "stdout",
          "text": [
            "Accuracy with default priors: 1.0\n",
            "Accuracy with custom uniform priors: 1.0\n"
          ]
        }
      ]
    },
    {
      "cell_type": "code",
      "source": [
        "# Question 40: Write a Python program to perform Recursive Feature Elimination (RFE) before training an SVM Classifier and compare accuracy.\n",
        "\n",
        "from sklearn.datasets import load_wine\n",
        "from sklearn.model_selection import train_test_split\n",
        "from sklearn.svm import SVC\n",
        "from sklearn.feature_selection import RFE\n",
        "from sklearn.metrics import accuracy_score\n",
        "\n",
        "# Load dataset\n",
        "wine = load_wine()\n",
        "X = wine.data\n",
        "y = wine.target\n",
        "\n",
        "# Split data\n",
        "X_train, X_test, y_train, y_test = train_test_split(X, y, test_size=0.2, random_state=42)\n",
        "\n",
        "# Use SVC with linear kernel for RFE compatibility\n",
        "svc = SVC(kernel='linear')\n",
        "\n",
        "# RFE to select top 5 features\n",
        "selector = RFE(estimator=svc, n_features_to_select=5)\n",
        "selector.fit(X_train, y_train)\n",
        "\n",
        "# Transform train and test data\n",
        "X_train_rfe = selector.transform(X_train)\n",
        "X_test_rfe = selector.transform(X_test)\n",
        "\n",
        "# Train SVC on selected features\n",
        "svc.fit(X_train_rfe, y_train)\n",
        "y_pred = svc.predict(X_test_rfe)\n",
        "\n",
        "# Accuracy\n",
        "acc = accuracy_score(y_test, y_pred)\n",
        "print(f\"Accuracy after RFE feature selection: {acc}\")\n"
      ],
      "metadata": {
        "colab": {
          "base_uri": "https://localhost:8080/"
        },
        "id": "vEsVjG8IdInO",
        "outputId": "6d85e48f-6efc-4ab2-c957-df1577feb713"
      },
      "execution_count": 29,
      "outputs": [
        {
          "output_type": "stream",
          "name": "stdout",
          "text": [
            "Accuracy after RFE feature selection: 0.9722222222222222\n"
          ]
        }
      ]
    },
    {
      "cell_type": "code",
      "source": [
        "# Question 41: Write a Python program to train an SVM Classifier and evaluate its performance using Precision, Recall, and F1-Score instead of accuracy.\n",
        "\n",
        "from sklearn.datasets import load_breast_cancer\n",
        "from sklearn.svm import SVC\n",
        "from sklearn.model_selection import train_test_split\n",
        "from sklearn.metrics import precision_score, recall_score, f1_score\n",
        "\n",
        "data = load_breast_cancer()\n",
        "X = data.data\n",
        "y = data.target\n",
        "\n",
        "X_train, X_test, y_train, y_test = train_test_split(X, y, test_size=0.2, random_state=42)\n",
        "\n",
        "clf = SVC()\n",
        "clf.fit(X_train, y_train)\n",
        "y_pred = clf.predict(X_test)\n",
        "\n",
        "precision = precision_score(y_test, y_pred)\n",
        "recall = recall_score(y_test, y_pred)\n",
        "f1 = f1_score(y_test, y_pred)\n",
        "\n",
        "print(f\"Precision: {precision}\")\n",
        "print(f\"Recall: {recall}\")\n",
        "print(f\"F1-Score: {f1}\")\n"
      ],
      "metadata": {
        "colab": {
          "base_uri": "https://localhost:8080/"
        },
        "id": "Ds0ODAFIdIlU",
        "outputId": "64073b89-4645-45c2-a634-0f2028d4740f"
      },
      "execution_count": 30,
      "outputs": [
        {
          "output_type": "stream",
          "name": "stdout",
          "text": [
            "Precision: 0.922077922077922\n",
            "Recall: 1.0\n",
            "F1-Score: 0.9594594594594594\n"
          ]
        }
      ]
    },
    {
      "cell_type": "code",
      "source": [
        "# Question 42: Write a Python program to train a Naïve Bayes Classifier and evaluate its performance using Log Loss (Cross-Entropy Loss).\n",
        "\n",
        "from sklearn.datasets import load_iris\n",
        "from sklearn.naive_bayes import GaussianNB\n",
        "from sklearn.model_selection import train_test_split\n",
        "from sklearn.metrics import log_loss\n",
        "\n",
        "iris = load_iris()\n",
        "X = iris.data\n",
        "y = iris.target\n",
        "\n",
        "X_train, X_test, y_train, y_test = train_test_split(X, y, test_size=0.2, random_state=42)\n",
        "\n",
        "gnb = GaussianNB()\n",
        "gnb.fit(X_train, y_train)\n",
        "\n",
        "y_prob = gnb.predict_proba(X_test)\n",
        "loss = log_loss(y_test, y_prob)\n",
        "\n",
        "print(f\"Log Loss: {loss}\")\n"
      ],
      "metadata": {
        "colab": {
          "base_uri": "https://localhost:8080/"
        },
        "id": "a5ZiZTAvdIi2",
        "outputId": "c26ebab9-fae7-4a69-880d-e3d530e19ff3"
      },
      "execution_count": 31,
      "outputs": [
        {
          "output_type": "stream",
          "name": "stdout",
          "text": [
            "Log Loss: 0.02625269787231071\n"
          ]
        }
      ]
    },
    {
      "cell_type": "code",
      "source": [
        "# Question 43: Write a Python program to train an SVM Classifier and visualize the Confusion Matrix using seaborn.\n",
        "\n",
        "import seaborn as sns\n",
        "from sklearn.datasets import load_breast_cancer\n",
        "from sklearn.svm import SVC\n",
        "from sklearn.model_selection import train_test_split\n",
        "from sklearn.metrics import confusion_matrix\n",
        "import matplotlib.pyplot as plt\n",
        "\n",
        "data = load_breast_cancer()\n",
        "X = data.data\n",
        "y = data.target\n",
        "\n",
        "X_train, X_test, y_train, y_test = train_test_split(X, y, test_size=0.2, random_state=42)\n",
        "\n",
        "clf = SVC()\n",
        "clf.fit(X_train, y_train)\n",
        "y_pred = clf.predict(X_test)\n",
        "\n",
        "cm = confusion_matrix(y_test, y_pred)\n",
        "\n",
        "sns.heatmap(cm, annot=True, fmt='d', cmap='Blues')\n",
        "plt.xlabel('Predicted')\n",
        "plt.ylabel('Actual')\n",
        "plt.title('Confusion Matrix')\n",
        "plt.show()\n",
        ""
      ],
      "metadata": {
        "colab": {
          "base_uri": "https://localhost:8080/",
          "height": 472
        },
        "id": "h8Fig6lydIfP",
        "outputId": "eb25f119-679c-4d54-e060-d953bdb86029"
      },
      "execution_count": 32,
      "outputs": [
        {
          "output_type": "display_data",
          "data": {
            "text/plain": [
              "<Figure size 640x480 with 2 Axes>"
            ],
            "image/png": "[encoded data removed]"
          },
          "metadata": {}
        }
      ]
    },
    {
      "cell_type": "code",
      "source": [
        "# Question 44: Write a Python program to train an SVM Regressor (SVR) and evaluate its performance using Mean Absolute Error (MAE) instead of MSE.\n",
        "# Note: Since load_boston is removed, we'll use fetch_california_housing dataset instead.\n",
        "\n",
        "from sklearn.datasets import fetch_california_housing\n",
        "from sklearn.model_selection import train_test_split\n",
        "from sklearn.svm import SVR\n",
        "from sklearn.metrics import mean_absolute_error\n",
        "\n",
        "# Load California housing dataset\n",
        "housing = fetch_california_housing()\n",
        "X = housing.data\n",
        "y = housing.target\n",
        "\n",
        "# Split dataset into train and test\n",
        "X_train, X_test, y_train, y_test = train_test_split(X, y, test_size=0.2, random_state=42)\n",
        "\n",
        "# Train SVR model\n",
        "svr = SVR()\n",
        "svr.fit(X_train, y_train)\n",
        "\n",
        "# Predict on test data\n",
        "y_pred = svr.predict(X_test)\n",
        "\n",
        "# Evaluate performance using MAE\n",
        "mae = mean_absolute_error(y_test, y_pred)\n",
        "print(f\"Mean Absolute Error (MAE) for SVR on California Housing dataset: {mae}\")\n"
      ],
      "metadata": {
        "colab": {
          "base_uri": "https://localhost:8080/"
        },
        "id": "Lzn--QM4dIce",
        "outputId": "d96710f4-4608-452d-f113-b52b7916db46"
      },
      "execution_count": 36,
      "outputs": [
        {
          "output_type": "stream",
          "name": "stdout",
          "text": [
            "Mean Absolute Error (MAE) for SVR on California Housing dataset: 0.8599506583445761\n"
          ]
        }
      ]
    },
    {
      "cell_type": "code",
      "source": [
        "# Question 45: Write a Python program to train a Naive Bayes classifier and evaluate its performance using the ROC-AUC score.\n",
        "\n",
        "from sklearn.datasets import load_breast_cancer\n",
        "from sklearn.naive_bayes import GaussianNB\n",
        "from sklearn.metrics import roc_auc_score\n",
        "from sklearn.model_selection import train_test_split\n",
        "\n",
        "# Load dataset\n",
        "cancer = load_breast_cancer()\n",
        "X = cancer.data\n",
        "y = cancer.target\n",
        "\n",
        "# Split dataset\n",
        "X_train, X_test, y_train, y_test = train_test_split(X, y, test_size=0.2, random_state=42)\n",
        "\n",
        "# Train Naive Bayes\n",
        "nb = GaussianNB()\n",
        "nb.fit(X_train, y_train)\n",
        "\n",
        "# Predict probabilities for ROC-AUC\n",
        "y_prob = nb.predict_proba(X_test)[:, 1]\n",
        "\n",
        "# Calculate ROC-AUC score\n",
        "roc_auc = roc_auc_score(y_test, y_prob)\n",
        "print(f\"ROC-AUC Score for Naive Bayes: {roc_auc}\")\n"
      ],
      "metadata": {
        "colab": {
          "base_uri": "https://localhost:8080/"
        },
        "id": "w1uODutxdIZq",
        "outputId": "1ddd0179-b8f9-4d55-ecdc-06f8c07c1973"
      },
      "execution_count": 34,
      "outputs": [
        {
          "output_type": "stream",
          "name": "stdout",
          "text": [
            "ROC-AUC Score for Naive Bayes: 0.9983622666229938\n"
          ]
        }
      ]
    },
    {
      "cell_type": "code",
      "source": [
        "# Question 46: Write a Python program to train an SVM Classifier and visualize the Precision-Recall Curve\n",
        "\n",
        "from sklearn.datasets import load_breast_cancer\n",
        "from sklearn.svm import SVC\n",
        "from sklearn.metrics import precision_recall_curve, average_precision_score\n",
        "import matplotlib.pyplot as plt\n",
        "\n",
        "# Load dataset\n",
        "cancer = load_breast_cancer()\n",
        "X = cancer.data\n",
        "y = cancer.target\n",
        "\n",
        "# Split dataset\n",
        "X_train, X_test, y_train, y_test = train_test_split(X, y, test_size=0.2, random_state=42)\n",
        "\n",
        "# Train SVM with probability estimates for PR curve\n",
        "svm_clf = SVC(probability=True)\n",
        "svm_clf.fit(X_train, y_train)\n",
        "\n",
        "# Predict probabilities for positive class\n",
        "y_scores = svm_clf.predict_proba(X_test)[:, 1]\n",
        "\n",
        "# Calculate precision-recall curve\n",
        "precision, recall, thresholds = precision_recall_curve(y_test, y_scores)\n",
        "avg_precision = average_precision_score(y_test, y_scores)\n",
        "\n",
        "# Plot Precision-Recall curve\n",
        "plt.figure(figsize=(8,6))\n",
        "plt.plot(recall, precision, label=f'Average Precision = {avg_precision:.2f}')\n",
        "plt.xlabel('Recall')\n",
        "plt.ylabel('Precision')\n",
        "plt.title('Precision-Recall Curve for SVM Classifier')\n",
        "plt.legend()\n",
        "plt.show()\n"
      ],
      "metadata": {
        "colab": {
          "base_uri": "https://localhost:8080/",
          "height": 564
        },
        "id": "dSQ9oE96eWeY",
        "outputId": "fa67e1eb-d5c1-48f9-fc80-8b87a5d156ed"
      },
      "execution_count": 35,
      "outputs": [
        {
          "output_type": "display_data",
          "data": {
            "text/plain": [
              "<Figure size 800x600 with 1 Axes>"
            ],
            "image/png": "[encoded data removed]"
          },
          "metadata": {}
        }
      ]
    }
  ]
}